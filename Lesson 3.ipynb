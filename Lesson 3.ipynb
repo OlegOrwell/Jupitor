{
 "cells": [
  {
   "cell_type": "code",
   "execution_count": 1,
   "metadata": {},
   "outputs": [],
   "source": [
    "import numpy as np\n",
    "import pandas as pd\n",
    "import matplotlib.pyplot as plt"
   ]
  },
  {
   "cell_type": "code",
   "execution_count": 10,
   "metadata": {},
   "outputs": [
    {
     "data": {
      "text/plain": [
       "array([12, 13, 14, 15, 16, 17, 18, 19, 20, 21, 22, 23])"
      ]
     },
     "execution_count": 10,
     "metadata": {},
     "output_type": "execute_result"
    }
   ],
   "source": [
    "#1\n",
    "a = np.arange(12, 24, 1)\n",
    "a\n"
   ]
  },
  {
   "cell_type": "code",
   "execution_count": 18,
   "metadata": {},
   "outputs": [],
   "source": [
    "#2\n",
    "b1 = a.reshape(3, 4)\n",
    "b2 = a.reshape(4, 3)\n",
    "b3 = a.reshape(2, 6)\n",
    "b4 = a.reshape(6, 2)\n",
    "b5 = a.reshape(12, 1)\n",
    "#b1, b2, b3, b4, b5"
   ]
  },
  {
   "cell_type": "code",
   "execution_count": 25,
   "metadata": {},
   "outputs": [],
   "source": [
    "#3 \n",
    "b1 = a.reshape(3, -1)\n",
    "b2 = a.reshape(4, -1)\n",
    "b3 = a.reshape(-1, 6)\n",
    "b4 = a.reshape(-1, 2)\n",
    "b5 = a.reshape(12, -1)\n",
    "#b1, b2, b3, b4, b5"
   ]
  },
  {
   "cell_type": "code",
   "execution_count": null,
   "metadata": {},
   "outputs": [],
   "source": [
    "#4\n",
    "Да, будет вектор\n"
   ]
  },
  {
   "cell_type": "code",
   "execution_count": 32,
   "metadata": {},
   "outputs": [
    {
     "data": {
      "text/plain": [
       "array([[-1.07804314,  0.76164276,  0.67345122,  1.88340976],\n",
       "       [-1.70338134, -0.71544807,  0.55922418, -0.74801965],\n",
       "       [ 0.70927455,  0.56817703, -1.4048878 ,  1.64500457]])"
      ]
     },
     "execution_count": 32,
     "metadata": {},
     "output_type": "execute_result"
    }
   ],
   "source": [
    "#5\n",
    "\n",
    "mu, sigma = 0, 1\n",
    "s = np.random.normal(mu, sigma, 12)\n",
    "a = s.reshape(3, -1)\n",
    "a\n"
   ]
  },
  {
   "cell_type": "code",
   "execution_count": 35,
   "metadata": {},
   "outputs": [
    {
     "data": {
      "text/plain": [
       "True"
      ]
     },
     "execution_count": 35,
     "metadata": {},
     "output_type": "execute_result"
    }
   ],
   "source": [
    "s.size\n",
    "a.size\n",
    "s.size == a.size\n"
   ]
  },
  {
   "cell_type": "code",
   "execution_count": 56,
   "metadata": {},
   "outputs": [
    {
     "data": {
      "text/plain": [
       "array([20, 18, 16, 14, 12, 10,  8,  6,  4,  2])"
      ]
     },
     "execution_count": 56,
     "metadata": {},
     "output_type": "execute_result"
    }
   ],
   "source": [
    "#6\n",
    "a = np.arange(20, 0, -2)\n",
    "a"
   ]
  },
  {
   "cell_type": "code",
   "execution_count": 57,
   "metadata": {},
   "outputs": [
    {
     "data": {
      "text/plain": [
       "matrix([[20],\n",
       "        [18],\n",
       "        [16],\n",
       "        [14],\n",
       "        [12],\n",
       "        [10],\n",
       "        [ 8],\n",
       "        [ 6],\n",
       "        [ 4],\n",
       "        [ 2]])"
      ]
     },
     "execution_count": 57,
     "metadata": {},
     "output_type": "execute_result"
    }
   ],
   "source": [
    "#7\n",
    "b = np.arange(20, 1, -2)\n",
    "b = np.matrix(b)\n",
    "\n",
    "c = np.transpose(b)\n",
    "c"
   ]
  },
  {
   "cell_type": "code",
   "execution_count": 60,
   "metadata": {},
   "outputs": [
    {
     "data": {
      "text/plain": [
       "matrix([[ True,  True,  True,  True,  True,  True,  True,  True,  True,\n",
       "          True]])"
      ]
     },
     "execution_count": 60,
     "metadata": {},
     "output_type": "execute_result"
    }
   ],
   "source": [
    "a == c.T\n"
   ]
  },
  {
   "cell_type": "code",
   "execution_count": 75,
   "metadata": {},
   "outputs": [
    {
     "data": {
      "text/plain": [
       "10"
      ]
     },
     "execution_count": 75,
     "metadata": {},
     "output_type": "execute_result"
    }
   ],
   "source": [
    "#8\n",
    "a = np.zeros((2, 2))\n",
    "b = np.ones((3, 2))\n",
    "v = np.concatenate((a, b))\n",
    "v.size"
   ]
  },
  {
   "cell_type": "code",
   "execution_count": 135,
   "metadata": {},
   "outputs": [
    {
     "data": {
      "text/plain": [
       "array([[ 14,  32,  50,  68],\n",
       "       [ 32,  77, 122, 167],\n",
       "       [ 50, 122, 194, 266],\n",
       "       [ 68, 167, 266, 365]])"
      ]
     },
     "execution_count": 135,
     "metadata": {},
     "output_type": "execute_result"
    }
   ],
   "source": [
    "#9\n",
    "a = np.arange(1, 13, 1)\n",
    "A = a.reshape(4, 3)\n",
    "\n",
    "At = A.T\n",
    "B = A.dot(At)\n",
    "\n"
   ]
  },
  {
   "cell_type": "code",
   "execution_count": 87,
   "metadata": {},
   "outputs": [
    {
     "data": {
      "text/plain": [
       "16"
      ]
     },
     "execution_count": 87,
     "metadata": {},
     "output_type": "execute_result"
    }
   ],
   "source": [
    "B.size"
   ]
  },
  {
   "cell_type": "code",
   "execution_count": 145,
   "metadata": {},
   "outputs": [
    {
     "data": {
      "text/plain": [
       "matrix([[ 9.35339320e+13, -1.89435812e+12, -2.76813080e+14,\n",
       "          1.85173506e+14],\n",
       "        [-6.76285848e+14,  7.89000156e+14,  4.50857232e+14,\n",
       "         -5.63571540e+14],\n",
       "        [ 1.07196990e+15, -1.57231724e+15, -7.12752241e+13,\n",
       "          5.71622562e+14],\n",
       "        [-4.89217984e+14,  7.85211439e+14, -1.02768928e+14,\n",
       "         -1.93224528e+14]])"
      ]
     },
     "execution_count": 145,
     "metadata": {},
     "output_type": "execute_result"
    }
   ],
   "source": [
    "B_inv = np.linalg.inv(B)\n",
    "B_inv"
   ]
  },
  {
   "cell_type": "code",
   "execution_count": 138,
   "metadata": {},
   "outputs": [
    {
     "data": {
      "text/plain": [
       "array([[[ 14],\n",
       "        [ 32],\n",
       "        [ 50],\n",
       "        [ 68]],\n",
       "\n",
       "       [[ 32],\n",
       "        [ 77],\n",
       "        [122],\n",
       "        [167]],\n",
       "\n",
       "       [[ 50],\n",
       "        [122],\n",
       "        [194],\n",
       "        [266]],\n",
       "\n",
       "       [[ 68],\n",
       "        [167],\n",
       "        [266],\n",
       "        [365]]])"
      ]
     },
     "execution_count": 138,
     "metadata": {},
     "output_type": "execute_result"
    }
   ],
   "source": [
    "b = np.array([B])\n",
    "Bt = b.T\n",
    "Bt\n"
   ]
  },
  {
   "cell_type": "code",
   "execution_count": 101,
   "metadata": {},
   "outputs": [],
   "source": [
    "#10\n",
    "np.random.seed(42)"
   ]
  },
  {
   "cell_type": "code",
   "execution_count": 169,
   "metadata": {},
   "outputs": [
    {
     "data": {
      "text/plain": [
       "array([ 4, 14, 13,  2,  0,  4,  9,  6, 14, 13,  6, 10,  8, 14, 14,  9])"
      ]
     },
     "execution_count": 169,
     "metadata": {},
     "output_type": "execute_result"
    }
   ],
   "source": [
    "#11\n",
    "a = np.random.randint(16, size=16)\n",
    "a"
   ]
  },
  {
   "cell_type": "code",
   "execution_count": 115,
   "metadata": {},
   "outputs": [
    {
     "data": {
      "text/plain": [
       "array([[ 1,  0, 15,  6],\n",
       "       [ 6, 13,  7,  4],\n",
       "       [ 2, 11,  7,  5],\n",
       "       [10,  2,  0,  2]])"
      ]
     },
     "execution_count": 115,
     "metadata": {},
     "output_type": "execute_result"
    }
   ],
   "source": [
    "#12\n",
    "C = a.reshape(4, -1)\n",
    "C"
   ]
  },
  {
   "cell_type": "code",
   "execution_count": 140,
   "metadata": {},
   "outputs": [
    {
     "data": {
      "text/plain": [
       "matrix([[11, 10, 25, 16],\n",
       "        [16, 23, 17, 14],\n",
       "        [12, 21, 17, 15],\n",
       "        [20, 12, 10, 12]])"
      ]
     },
     "execution_count": 140,
     "metadata": {},
     "output_type": "execute_result"
    }
   ],
   "source": [
    "a = np.matrix(C)\n",
    "C = a.T\n",
    "C = C + 10\n",
    "C"
   ]
  },
  {
   "cell_type": "code",
   "execution_count": 142,
   "metadata": {},
   "outputs": [
    {
     "data": {
      "text/plain": [
       "matrix([[ 25,  42,  75,  84],\n",
       "        [ 48, 100, 139, 181],\n",
       "        [ 62, 143, 211, 281],\n",
       "        [ 88, 179, 276, 377]])"
      ]
     },
     "execution_count": 142,
     "metadata": {},
     "output_type": "execute_result"
    }
   ],
   "source": [
    "D = np.add(B, C)\n",
    "D"
   ]
  },
  {
   "cell_type": "code",
   "execution_count": 146,
   "metadata": {},
   "outputs": [
    {
     "data": {
      "text/plain": [
       "matrix([[ 0.00876377,  0.08581217, -0.1278748 ,  0.0521609 ],\n",
       "        [-0.03897192,  0.05588517,  0.03096686, -0.04122882],\n",
       "        [ 0.07666133, -0.0430274 ,  0.04621055, -0.03086673],\n",
       "        [-0.03966516, -0.0150646 , -0.01868488,  0.03264991]])"
      ]
     },
     "execution_count": 146,
     "metadata": {},
     "output_type": "execute_result"
    }
   ],
   "source": [
    "D_inv = np.linalg.inv(D)\n",
    "D_inv"
   ]
  },
  {
   "cell_type": "code",
   "execution_count": 174,
   "metadata": {},
   "outputs": [
    {
     "data": {
      "text/plain": [
       "519297.0"
      ]
     },
     "execution_count": 174,
     "metadata": {},
     "output_type": "execute_result"
    }
   ],
   "source": [
    "#Определитель матрицы\n",
    "np.linalg.det(D).round()"
   ]
  },
  {
   "cell_type": "code",
   "execution_count": 175,
   "metadata": {},
   "outputs": [
    {
     "data": {
      "text/plain": [
       "4"
      ]
     },
     "execution_count": 175,
     "metadata": {},
     "output_type": "execute_result"
    }
   ],
   "source": [
    "#Ранг матрицы\n",
    "np.linalg.matrix_rank(D)"
   ]
  },
  {
   "cell_type": "code",
   "execution_count": 176,
   "metadata": {},
   "outputs": [
    {
     "data": {
      "text/plain": [
       "matrix([[1., 1., 0., 1.],\n",
       "        [0., 1., 1., 0.],\n",
       "        [1., 0., 1., 0.],\n",
       "        [0., 0., 0., 1.]])"
      ]
     },
     "execution_count": 176,
     "metadata": {},
     "output_type": "execute_result"
    }
   ],
   "source": [
    "#13 \n",
    "D_inv = l\n",
    "l[l<=0] = 0\n",
    "l[l>0] = 1\n",
    "l"
   ]
  },
  {
   "cell_type": "code",
   "execution_count": 177,
   "metadata": {},
   "outputs": [
    {
     "data": {
      "text/plain": [
       "array([[ 14,  32,  25,  68],\n",
       "       [ 16,  77, 122,  14],\n",
       "       [ 50,  21, 194,  15],\n",
       "       [ 20,  12,  10, 365]])"
      ]
     },
     "execution_count": 177,
     "metadata": {},
     "output_type": "execute_result"
    }
   ],
   "source": [
    "E = np.where(l, B, C)\n",
    "E"
   ]
  },
  {
   "cell_type": "code",
   "execution_count": null,
   "metadata": {},
   "outputs": [],
   "source": []
  }
 ],
 "metadata": {
  "kernelspec": {
   "display_name": "Python 3",
   "language": "python",
   "name": "python3"
  },
  "language_info": {
   "codemirror_mode": {
    "name": "ipython",
    "version": 3
   },
   "file_extension": ".py",
   "mimetype": "text/x-python",
   "name": "python",
   "nbconvert_exporter": "python",
   "pygments_lexer": "ipython3",
   "version": "3.7.6"
  }
 },
 "nbformat": 4,
 "nbformat_minor": 4
}
