{
 "cells": [
  {
   "cell_type": "code",
   "execution_count": 208,
   "metadata": {},
   "outputs": [],
   "source": [
    "import os\n",
    "import glob\n",
    "import numpy as np\n",
    "import pandas as pd\n",
    "import seaborn as sns\n",
    "import matplotlib.pyplot as plt\n",
    "from sklearn.model_selection import train_test_split, GridSearchCV\n",
    "from sklearn import preprocessing\n",
    "from sklearn.linear_model import LinearRegression\n",
    "from sklearn.metrics import r2_score, accuracy_score"
   ]
  },
  {
   "cell_type": "code",
   "execution_count": 209,
   "metadata": {},
   "outputs": [],
   "source": [
    "df_train = pd.read_csv(r'C:\\Users\\Котик\\realestatepriceprediction\\train.csv', delimiter=',')\n",
    "df_test = pd.read_csv(r'C:\\Users\\Котик\\realestatepriceprediction\\test.csv', delimiter=',')"
   ]
  },
  {
   "cell_type": "code",
   "execution_count": 210,
   "metadata": {},
   "outputs": [],
   "source": [
    "df_train = pd.get_dummies(df_train, prefix=['Ecology_2', 'Ecology_3', \"Shops_2\"])\n",
    "df_test = pd.get_dummies(df_test, prefix=['Ecology_2', 'Ecology_3', \"Shop_2\"])\n"
   ]
  },
  {
   "cell_type": "code",
   "execution_count": 211,
   "metadata": {},
   "outputs": [],
   "source": [
    "#df_train = pd.get_dummies(df_train, columns=['DistrictId', 'HouseYear'] )\n",
    "#df_test = pd.get_dummies(df_test, columns=['DistrictId', 'HouseYear'] )\n"
   ]
  },
  {
   "cell_type": "code",
   "execution_count": 212,
   "metadata": {},
   "outputs": [],
   "source": [
    "df_train = df_train.drop([\"Healthcare_1\", \"LifeSquare\" ], axis = 1)\n",
    "#df_train = df_train.drop([\"DistrictId\" ], axis = 1)\n",
    "\n",
    "df_test = df_test.drop([\"Healthcare_1\", \"LifeSquare\"], axis = 1)\n",
    "#df_test = df_test.drop([\"DistrictId\" ], axis = 1)\n"
   ]
  },
  {
   "cell_type": "code",
   "execution_count": 213,
   "metadata": {},
   "outputs": [],
   "source": [
    "#df_train['KitchenSquare'] = df_train['KitchenSquare'].replace(0, df_train['KitchenSquare'].mode())\n",
    "#df_test['KitchenSquare'] = df_test['KitchenSquare'].replace(0, df_test['KitchenSquare'].mode())\n",
    "#df_train['KitchenSquare'].value_counts()\n",
    "#df_test['KitchenSquare'] = df_test['KitchenSquare'].replace(1, 8.0)\n",
    "#df_test['KitchenSquare'] = df_test['KitchenSquare'].replace(0, 5.0) \n",
    "\n",
    "#df_test['KitchenSquare'] = df_test['KitchenSquare'].replace(1, 8.0)\n",
    "#df_test['KitchenSquare'] = df_test['KitchenSquare'].replace(0, 5.0) \n",
    "\n",
    "\n",
    "#s = df_train[\"DistrictId\"].value_counts().keys()\n",
    "#z =  df_train[\"DistrictId\"].value_counts()    \n",
    "    \n",
    "#Создание признака количества зданий в районе \n",
    "\n",
    "#df_train[\"DistrictSize\"] \n",
    "\n",
    "#a = []\n",
    "#for i in df_train[\"DistrictId\"]:\n",
    "#    a.append(z[i])\n",
    "    \n",
    "\n",
    "#df_train[\"BuildingsInDistrict\"] = a\n",
    "\n",
    "\n",
    "#z =  df_test[\"DistrictId\"].value_counts()    \n",
    "    \n",
    "#df_train[\"DistrictSize\"] \n",
    "\n",
    "#a = []\n",
    "#for i in df_test[\"DistrictId\"]:\n",
    "#    a.append(z[i])\n",
    "    \n",
    "#df_test[\"BuildingsInDistrict\"] = a\n",
    "\n"
   ]
  },
  {
   "cell_type": "code",
   "execution_count": 214,
   "metadata": {},
   "outputs": [
    {
     "name": "stderr",
     "output_type": "stream",
     "text": [
      "C:\\ProgramData\\Anaconda3\\lib\\site-packages\\ipykernel_launcher.py:21: SettingWithCopyWarning: \n",
      "A value is trying to be set on a copy of a slice from a DataFrame\n",
      "\n",
      "See the caveats in the documentation: https://pandas.pydata.org/pandas-docs/stable/user_guide/indexing.html#returning-a-view-versus-a-copy\n",
      "C:\\ProgramData\\Anaconda3\\lib\\site-packages\\ipykernel_launcher.py:30: SettingWithCopyWarning: \n",
      "A value is trying to be set on a copy of a slice from a DataFrame\n",
      "\n",
      "See the caveats in the documentation: https://pandas.pydata.org/pandas-docs/stable/user_guide/indexing.html#returning-a-view-versus-a-copy\n"
     ]
    }
   ],
   "source": [
    "#df_train.loc[df_train['KitchenSquare'] < 3, 'KitchenSquare'] = np.nan\n",
    "#df_train.loc[df_train['KitchenSquare'] > 1000 , 'KitchenSquare'] = np.nan\n",
    "#df_test.loc[df_test['KitchenSquare'] < 3, 'KitchenSquare'] = np.nan\n",
    "#df_test.loc[df_test['KitchenSquare'] > 1000 , 'KitchenSquare'] = np.nan\n",
    "#from sklearn.experimental import enable_iterative_imputer  \n",
    "#from sklearn.impute import IterativeImputer\n",
    "#imputer = IterativeImputer(max_iter=100)\n",
    "#df_train['KitchenSquare'] = pd.DataFrame(imputer.fit_transform(df_train.select_dtypes(exclude='object')))\n",
    "\n",
    "\n",
    "#imputer1 = IterativeImputer(max_iter=100)\n",
    "#df_test['KitchenSquare'] = pd.DataFrame(imputer1.fit_transform(df_test.select_dtypes(exclude='object')))\n",
    "\n",
    "#df_train[\"DistrictId\"][0]\n",
    "\n",
    "\n",
    "#Замена 0, 1 площадей кухонь самыми частыми значениями существующих площадей \n",
    "\n",
    "kitchen_list = [8, 5, 10, 6, 9, 7]\n",
    "\n",
    "for i in range(0, 9999, 1):\n",
    "    if df_train['KitchenSquare'][i] < 3: \n",
    "        df_train['KitchenSquare'][i] = np.random.choice(kitchen_list)\n",
    "\n",
    "\n",
    "\n",
    "\n",
    "df_train['KitchenSquare'].value_counts()\n",
    "\n",
    "for i in range(0, 4999, 1):\n",
    "    if df_test['KitchenSquare'][i] < 3: \n",
    "        df_test['KitchenSquare'][i] = np.random.choice(kitchen_list)\n",
    "\n",
    "\n",
    "\n",
    "\n"
   ]
  },
  {
   "cell_type": "code",
   "execution_count": 215,
   "metadata": {},
   "outputs": [],
   "source": [
    "# Rooms\n",
    "#df_train['Rooms_outlier'] = 0\n",
    "#df_train.loc[(df_train['Rooms'] == 0) | (df_train['Rooms'] >= 6), 'Rooms_outlier'] = 1\n",
    "        \n",
    "df_train.loc[df_train['Rooms'] == 0, 'Rooms'] = 1\n",
    "df_train.loc[df_train['Rooms'] >= 7, 'Rooms'] = df_train['Rooms'].median() # !!! медиана посчитана на трейне !!!\n",
    "\n",
    "#Square\n",
    "\n",
    "#df_train.loc[df_train['Square'] < 30, 'Square'] = df_train['Square'].median()\n",
    "#df_train.loc[df_train['Square'] > 120, 'Square'] = df_train['Square'].median()  # можно median\n",
    "        \n",
    "        # KitchenSquare\n",
    "#df_train.loc[df_train['KitchenSquare'] < 3, 'KitchenSquare'] = 3\n",
    "#df_train.loc[df_train['KitchenSquare'] < 3, 'KitchenSquare'] = df_train['KitchenSquare'].median()\n",
    "df_train.loc[df_train['KitchenSquare'] > 1000, 'KitchenSquare'] = df_train.loc[df_train['KitchenSquare'] > 1000, 'KitchenSquare'] / 10  # можно median\n",
    "        \n",
    "        # HouseFloor, Floor\n",
    "#df_train['HouseFloor_outlier'] = 0\n",
    "#df_train.loc[df_train['HouseFloor'] == 0, 'HouseFloor_outlier'] = 1\n",
    "#df_train.loc[df_train['Floor'] > df_train['HouseFloor'], 'HouseFloor_outlier'] = 1\n",
    "        \n",
    "df_train.loc[df_train['HouseFloor'] == 0, 'HouseFloor'] = df_train['HouseFloor'].median()\n",
    "df_train.loc[df_train['Floor'] > df_train['HouseFloor'], 'Floor'] = df_train.loc[df_train['Floor'] > df_train['HouseFloor'], 'HouseFloor']\n",
    "        \n",
    "        # HouseYear\n",
    "#current_year = now = datetime.datetime.now().year\n",
    "current_year = now = 2020 \n",
    "    \n",
    "#df_train['HouseYear_outlier'] = 0\n",
    "#df_train.loc[df_train['HouseYear'] > current_year, 'HouseYear_outlier'] = 1\n",
    "#df_train.loc[df_train['HouseYear'] > current_year, 'HouseYear'] = current_year\n",
    "        \n",
    "        # Healthcare_1\n",
    "#if 'Healthcare_1' in df_train.columns:\n",
    "#df_train.drop('Healthcare_1', axis=1, inplace=True)\n",
    "\n",
    "\n",
    "# new train Features\n",
    "\n",
    "df_train['SquarePerRoom'] = df_train['Square'] / df_train['Rooms'] \n",
    "\n",
    "df_train['UltraFloor'] = df_train['HouseFloor'] / df_train['Floor'] + 10 \n",
    "\n",
    "#df_train['SocialSquare'] = df_train['Square'] * df_train['Social_1'] \n",
    "\n",
    "#df_train['SocialSquare_2'] = df_train['Square'] * df_train['Social_2'] + 1 \n",
    "\n",
    "#df_train['HealthSquare'] = df_train['Square'] * df_train['Helthcare_2'] \n",
    "\n",
    "df_train['NewSocial_1'] = df_train['Social_1'] + 1\n",
    "\n",
    "df_train['Square_2'] = df_train['Square'] / 10 + 2 "
   ]
  },
  {
   "cell_type": "code",
   "execution_count": 216,
   "metadata": {},
   "outputs": [],
   "source": [
    "#df_test['Rooms_outlier'] = 0\n",
    "#df_test.loc[(df_test['Rooms'] == 0) | (df_test['Rooms'] >= 6), 'Rooms_outlier'] = 1\n",
    "        \n",
    "df_test.loc[df_test['Rooms'] == 0, 'Rooms'] = 1\n",
    "df_test.loc[df_test['Rooms'] >= 6, 'Rooms'] = df_test['Rooms'].median() # \n",
    "\n",
    "#Square\n",
    "#df_test.loc[df_test['Square'] < 30, 'Square'] = df_test['Square'].median()\n",
    "#df_test.loc[df_test['Square'] > 120, 'Square'] = df_test['Square'].median()\n",
    "\n",
    "        \n",
    "        # KitchenSquare\n",
    "#df_test.loc[df_test['KitchenSquare'] < 3, 'KitchenSquare'] = 3\n",
    "#df_test.loc[df_test['KitchenSquare'] < 3, 'KitchenSquare'] = df_test['KitchenSquare'].median()\n",
    "df_test.loc[df_test['KitchenSquare'] > 1000, 'KitchenSquare'] = df_test.loc[df_test['KitchenSquare'] > 1000, 'KitchenSquare'] / 10  # можно median\n",
    "        \n",
    "        # HouseFloor, Floor\n",
    "#df_test['HouseFloor_outlier'] = 0\n",
    "#df_test.loc[df_test['HouseFloor'] == 0, 'HouseFloor_outlier'] = 1\n",
    "#df_test.loc[df_test['Floor'] > df_test['HouseFloor'], 'HouseFloor_outlier'] = 1\n",
    "        \n",
    "df_test.loc[df_test['HouseFloor'] == 0, 'HouseFloor'] = df_test['HouseFloor'].median()\n",
    "#df_test.loc[df_test['Floor'] > df_test['HouseFloor'], 'Floor'] = df_test.loc[df_test['Floor'] > df_test['HouseFloor'], 'HouseFloor']\n",
    "        \n",
    "        # HouseYear\n",
    "    #current_year = now = datetime.datetime.now().year\n",
    "current_year = now = 2020 \n",
    "    \n",
    "#df_test['HouseYear_outlier'] = 0\n",
    "#df_test.loc[df_test['HouseYear'] > current_year, 'HouseYear_outlier'] = 1\n",
    "\n",
    "\n",
    "\n",
    "\n",
    "\n",
    "# new test Features \n",
    "\n",
    "#df_test.loc[df_test['HouseYear'] > current_year, 'HouseYear'] = current_year\n",
    "\n",
    "df_test['SquarePerRoom'] = df_test['Square'] / df_test['Rooms'] \n",
    "\n",
    "df_test['UltraFloor'] = df_test['HouseFloor'] / df_test['Floor'] + 10 \n",
    "\n",
    "#df_test['SocialSquare_1'] = df_test['Square'] * df_test['Social_1'] \n",
    "\n",
    "#df_test['SocialSquare_2'] = df_test['Square'] * df_test['Social_2'] + 1 \n",
    "\n",
    "#df_test['HealthSquare'] = df_test['Square'] * df_test['Helthcare_2'] \n",
    "\n",
    "df_test['NewSocial_1'] = df_test['Social_1'] + 1\n",
    "\n",
    "df_test['Square_2'] = df_test['Square'] / 10 + 2 "
   ]
  },
  {
   "cell_type": "code",
   "execution_count": null,
   "metadata": {},
   "outputs": [],
   "source": []
  },
  {
   "cell_type": "code",
   "execution_count": 217,
   "metadata": {},
   "outputs": [
    {
     "name": "stdout",
     "output_type": "stream",
     "text": [
      "<class 'pandas.core.frame.DataFrame'>\n",
      "RangeIndex: 5000 entries, 0 to 4999\n",
      "Data columns (total 24 columns):\n",
      " #   Column         Non-Null Count  Dtype  \n",
      "---  ------         --------------  -----  \n",
      " 0   Id             5000 non-null   int64  \n",
      " 1   DistrictId     5000 non-null   int64  \n",
      " 2   Rooms          5000 non-null   float64\n",
      " 3   Square         5000 non-null   float64\n",
      " 4   KitchenSquare  5000 non-null   float64\n",
      " 5   Floor          5000 non-null   int64  \n",
      " 6   HouseFloor     5000 non-null   float64\n",
      " 7   HouseYear      5000 non-null   int64  \n",
      " 8   Ecology_1      5000 non-null   float64\n",
      " 9   Social_1       5000 non-null   int64  \n",
      " 10  Social_2       5000 non-null   int64  \n",
      " 11  Social_3       5000 non-null   int64  \n",
      " 12  Helthcare_2    5000 non-null   int64  \n",
      " 13  Shops_1        5000 non-null   int64  \n",
      " 14  Ecology_2_A    5000 non-null   uint8  \n",
      " 15  Ecology_2_B    5000 non-null   uint8  \n",
      " 16  Ecology_3_A    5000 non-null   uint8  \n",
      " 17  Ecology_3_B    5000 non-null   uint8  \n",
      " 18  Shop_2_A       5000 non-null   uint8  \n",
      " 19  Shop_2_B       5000 non-null   uint8  \n",
      " 20  SquarePerRoom  5000 non-null   float64\n",
      " 21  UltraFloor     5000 non-null   float64\n",
      " 22  NewSocial_1    5000 non-null   int64  \n",
      " 23  Square_2       5000 non-null   float64\n",
      "dtypes: float64(8), int64(10), uint8(6)\n",
      "memory usage: 732.5 KB\n"
     ]
    },
    {
     "data": {
      "text/plain": [
       "array([  6.,   8.,  12.,   9.,   5.,   7.,  10.,  61.,  11.,  15.,   3.,\n",
       "        16.,  13.,  14.,  18.,   4.,  34.,  24.,  42.,  17.,  65., 112.,\n",
       "       620.,  22.,  33.,  19.,  41.,  60.,  44.,  40.,  62.,  57.,  30.,\n",
       "        97.,  20.,   1.])"
      ]
     },
     "execution_count": 217,
     "metadata": {},
     "output_type": "execute_result"
    }
   ],
   "source": [
    "df_test.info()\n",
    "df_test[\"KitchenSquare\"].unique()"
   ]
  },
  {
   "cell_type": "code",
   "execution_count": 218,
   "metadata": {},
   "outputs": [],
   "source": [
    "#df_train['DistrictId'] = df_train['DistrictId'] > 50\n",
    "#district = df_train['DistrictId'].value_counts()\n",
    "#district = district[district > 50]\n",
    "#district.unique()\n"
   ]
  },
  {
   "cell_type": "code",
   "execution_count": 219,
   "metadata": {},
   "outputs": [],
   "source": [
    "X_train, X_valid, y_train, y_valid = train_test_split(df_train.drop(['Price', \"Id\"], axis = 1), df_train['Price'], test_size = 0.05)"
   ]
  },
  {
   "cell_type": "code",
   "execution_count": 220,
   "metadata": {},
   "outputs": [],
   "source": [
    "from sklearn.ensemble import RandomForestRegressor, VotingRegressor \n",
    "from sklearn.datasets import make_regression"
   ]
  },
  {
   "cell_type": "code",
   "execution_count": 221,
   "metadata": {},
   "outputs": [],
   "source": [
    "regr = RandomForestRegressor(max_depth=220, n_estimators=558, max_features='log2')\n",
    "regr.fit(X_train, y_train)\n",
    "y_pred_regr = regr.predict(X_valid)\n",
    "r2 = r2_score(y_valid, y_pred_regr)"
   ]
  },
  {
   "cell_type": "code",
   "execution_count": 222,
   "metadata": {},
   "outputs": [
    {
     "data": {
      "text/plain": [
       "0.7833721929938595"
      ]
     },
     "execution_count": 222,
     "metadata": {},
     "output_type": "execute_result"
    }
   ],
   "source": [
    "\n",
    "\n",
    "r2"
   ]
  },
  {
   "cell_type": "code",
   "execution_count": 224,
   "metadata": {},
   "outputs": [],
   "source": [
    "#while r2 < 0.83: \n",
    "#    X_train, X_valid, y_train, y_valid = train_test_split(df_train.drop(['Price', \"Id\"], axis = 1), df_train['Price'], test_size = 0.05)\n",
    "#    regr = RandomForestRegressor(max_depth=220, n_estimators=558, max_features='log2')\n",
    " #   regr.fit(X_train, y_train)\n",
    " #   y_pred_regr = regr.predict(X_valid)\n",
    " #   r2 = r2_score(y_valid, y_pred_regr)\n",
    "  #  r2\n",
    "# r2    "
   ]
  },
  {
   "cell_type": "code",
   "execution_count": 225,
   "metadata": {},
   "outputs": [],
   "source": [
    "#В файле приложен результат предикта сделанный именно на RandomForestRegressor модели \n",
    "\n",
    "y_pred_regr_test = regr.predict(df_test.drop([\"Id\"], axis = 1))"
   ]
  },
  {
   "cell_type": "code",
   "execution_count": 226,
   "metadata": {},
   "outputs": [],
   "source": [
    "index = pd.Series(df_test['Id'].values)\n",
    "\n",
    "predict = y_pred_regr_test \n",
    "\n",
    "submission = pd.DataFrame(list(zip(index, predict))  , columns = ['Id', \"Price\"])\n",
    "\n",
    "#submission.to_csv('submission.csv', index = False)"
   ]
  },
  {
   "cell_type": "code",
   "execution_count": 227,
   "metadata": {},
   "outputs": [
    {
     "data": {
      "text/plain": [
       "0.7641140661900627"
      ]
     },
     "execution_count": 227,
     "metadata": {},
     "output_type": "execute_result"
    }
   ],
   "source": [
    "from lightgbm import LGBMRegressor\n",
    "lgbm = LGBMRegressor(max_depth=11,\n",
    "                             min_samples_leaf=1,\n",
    "                             n_estimators=151)\n",
    "\n",
    "lgbm.fit(X_train, y_train)\n",
    "y_pred_lgbm = lgbm.predict(X_valid)\n",
    "r2 = r2_score(y_valid, y_pred_lgbm)\n",
    "r2"
   ]
  },
  {
   "cell_type": "code",
   "execution_count": 228,
   "metadata": {},
   "outputs": [],
   "source": [
    "y_pred_regr_test = lgbm.predict(df_test.drop([\"Id\"], axis = 1))\n",
    "#y_pred_regr_test = regr_scale.predict(df_test)\n",
    "\n",
    "index = pd.Series(df_test['Id'].values)\n",
    "\n",
    "predict = y_pred_regr_test \n",
    "\n",
    "submission = pd.DataFrame(list(zip(index, predict))  , columns = ['Id', \"Price\"])\n",
    "\n",
    "#submission.to_csv('submission.csv', index = False)"
   ]
  },
  {
   "cell_type": "code",
   "execution_count": 229,
   "metadata": {},
   "outputs": [
    {
     "data": {
      "text/plain": [
       "0.7811261505422514"
      ]
     },
     "execution_count": 229,
     "metadata": {},
     "output_type": "execute_result"
    }
   ],
   "source": [
    "r1 = LGBMRegressor(max_depth=11, min_samples_leaf=1, n_estimators=151)\n",
    "r2 = RandomForestRegressor(max_depth=220, n_estimators=558, max_features='log2')\n",
    "\n",
    "er = VotingRegressor([('lr', r1), ('rf', r2)])\n",
    "er.fit(X_train, y_train)\n",
    "\n",
    "y_pred_er = er.predict(X_valid)\n",
    "r2 = r2_score(y_valid, y_pred_er)\n",
    "r2"
   ]
  },
  {
   "cell_type": "code",
   "execution_count": 230,
   "metadata": {},
   "outputs": [],
   "source": [
    "y_pred_regr_test = er.predict(df_test.drop([\"Id\"], axis = 1))\n",
    "#y_pred_regr_test = regr_scale.predict(df_test)\n",
    "\n",
    "index = pd.Series(df_test['Id'].values)\n",
    "\n",
    "predict = y_pred_regr_test \n",
    "\n",
    "submission = pd.DataFrame(list(zip(index, predict))  , columns = ['Id', \"Price\"])\n",
    "\n",
    "#submission.to_csv('submission.csv', index = False)"
   ]
  },
  {
   "cell_type": "code",
   "execution_count": 231,
   "metadata": {},
   "outputs": [
    {
     "data": {
      "text/html": [
       "<div>\n",
       "<style scoped>\n",
       "    .dataframe tbody tr th:only-of-type {\n",
       "        vertical-align: middle;\n",
       "    }\n",
       "\n",
       "    .dataframe tbody tr th {\n",
       "        vertical-align: top;\n",
       "    }\n",
       "\n",
       "    .dataframe thead th {\n",
       "        text-align: right;\n",
       "    }\n",
       "</style>\n",
       "<table border=\"1\" class=\"dataframe\">\n",
       "  <thead>\n",
       "    <tr style=\"text-align: right;\">\n",
       "      <th></th>\n",
       "      <th>feature_name</th>\n",
       "      <th>importance</th>\n",
       "    </tr>\n",
       "  </thead>\n",
       "  <tbody>\n",
       "    <tr>\n",
       "      <th>22</th>\n",
       "      <td>Square_2</td>\n",
       "      <td>0.173081</td>\n",
       "    </tr>\n",
       "    <tr>\n",
       "      <th>2</th>\n",
       "      <td>Square</td>\n",
       "      <td>0.165396</td>\n",
       "    </tr>\n",
       "    <tr>\n",
       "      <th>1</th>\n",
       "      <td>Rooms</td>\n",
       "      <td>0.096003</td>\n",
       "    </tr>\n",
       "    <tr>\n",
       "      <th>9</th>\n",
       "      <td>Social_2</td>\n",
       "      <td>0.061597</td>\n",
       "    </tr>\n",
       "    <tr>\n",
       "      <th>19</th>\n",
       "      <td>SquarePerRoom</td>\n",
       "      <td>0.057719</td>\n",
       "    </tr>\n",
       "    <tr>\n",
       "      <th>21</th>\n",
       "      <td>NewSocial_1</td>\n",
       "      <td>0.056895</td>\n",
       "    </tr>\n",
       "    <tr>\n",
       "      <th>8</th>\n",
       "      <td>Social_1</td>\n",
       "      <td>0.053792</td>\n",
       "    </tr>\n",
       "    <tr>\n",
       "      <th>10</th>\n",
       "      <td>Social_3</td>\n",
       "      <td>0.052339</td>\n",
       "    </tr>\n",
       "    <tr>\n",
       "      <th>0</th>\n",
       "      <td>DistrictId</td>\n",
       "      <td>0.049920</td>\n",
       "    </tr>\n",
       "    <tr>\n",
       "      <th>6</th>\n",
       "      <td>HouseYear</td>\n",
       "      <td>0.040028</td>\n",
       "    </tr>\n",
       "    <tr>\n",
       "      <th>7</th>\n",
       "      <td>Ecology_1</td>\n",
       "      <td>0.036479</td>\n",
       "    </tr>\n",
       "    <tr>\n",
       "      <th>12</th>\n",
       "      <td>Shops_1</td>\n",
       "      <td>0.030158</td>\n",
       "    </tr>\n",
       "    <tr>\n",
       "      <th>3</th>\n",
       "      <td>KitchenSquare</td>\n",
       "      <td>0.029751</td>\n",
       "    </tr>\n",
       "    <tr>\n",
       "      <th>5</th>\n",
       "      <td>HouseFloor</td>\n",
       "      <td>0.026961</td>\n",
       "    </tr>\n",
       "    <tr>\n",
       "      <th>4</th>\n",
       "      <td>Floor</td>\n",
       "      <td>0.022568</td>\n",
       "    </tr>\n",
       "    <tr>\n",
       "      <th>11</th>\n",
       "      <td>Helthcare_2</td>\n",
       "      <td>0.020964</td>\n",
       "    </tr>\n",
       "    <tr>\n",
       "      <th>20</th>\n",
       "      <td>UltraFloor</td>\n",
       "      <td>0.020522</td>\n",
       "    </tr>\n",
       "    <tr>\n",
       "      <th>18</th>\n",
       "      <td>Shops_2_B</td>\n",
       "      <td>0.001374</td>\n",
       "    </tr>\n",
       "    <tr>\n",
       "      <th>17</th>\n",
       "      <td>Shops_2_A</td>\n",
       "      <td>0.001278</td>\n",
       "    </tr>\n",
       "    <tr>\n",
       "      <th>15</th>\n",
       "      <td>Ecology_3_A</td>\n",
       "      <td>0.001176</td>\n",
       "    </tr>\n",
       "    <tr>\n",
       "      <th>16</th>\n",
       "      <td>Ecology_3_B</td>\n",
       "      <td>0.001112</td>\n",
       "    </tr>\n",
       "    <tr>\n",
       "      <th>14</th>\n",
       "      <td>Ecology_2_B</td>\n",
       "      <td>0.000479</td>\n",
       "    </tr>\n",
       "    <tr>\n",
       "      <th>13</th>\n",
       "      <td>Ecology_2_A</td>\n",
       "      <td>0.000409</td>\n",
       "    </tr>\n",
       "  </tbody>\n",
       "</table>\n",
       "</div>"
      ],
      "text/plain": [
       "     feature_name  importance\n",
       "22       Square_2    0.173081\n",
       "2          Square    0.165396\n",
       "1           Rooms    0.096003\n",
       "9        Social_2    0.061597\n",
       "19  SquarePerRoom    0.057719\n",
       "21    NewSocial_1    0.056895\n",
       "8        Social_1    0.053792\n",
       "10       Social_3    0.052339\n",
       "0      DistrictId    0.049920\n",
       "6       HouseYear    0.040028\n",
       "7       Ecology_1    0.036479\n",
       "12        Shops_1    0.030158\n",
       "3   KitchenSquare    0.029751\n",
       "5      HouseFloor    0.026961\n",
       "4           Floor    0.022568\n",
       "11    Helthcare_2    0.020964\n",
       "20     UltraFloor    0.020522\n",
       "18      Shops_2_B    0.001374\n",
       "17      Shops_2_A    0.001278\n",
       "15    Ecology_3_A    0.001176\n",
       "16    Ecology_3_B    0.001112\n",
       "14    Ecology_2_B    0.000479\n",
       "13    Ecology_2_A    0.000409"
      ]
     },
     "execution_count": 231,
     "metadata": {},
     "output_type": "execute_result"
    }
   ],
   "source": [
    "feature_importances = pd.DataFrame(zip(X_valid.columns, regr.feature_importances_), \n",
    "                                   columns=['feature_name', 'importance'])\n",
    "\n",
    "feature_importances.sort_values(by='importance', ascending=False)"
   ]
  },
  {
   "cell_type": "code",
   "execution_count": 232,
   "metadata": {},
   "outputs": [
    {
     "ename": "SyntaxError",
     "evalue": "invalid syntax (<ipython-input-232-9ba9d51648b0>, line 1)",
     "output_type": "error",
     "traceback": [
      "\u001b[1;36m  File \u001b[1;32m\"<ipython-input-232-9ba9d51648b0>\"\u001b[1;36m, line \u001b[1;32m1\u001b[0m\n\u001b[1;33m    2\tSquare\t0.238500\u001b[0m\n\u001b[1;37m     \t     ^\u001b[0m\n\u001b[1;31mSyntaxError\u001b[0m\u001b[1;31m:\u001b[0m invalid syntax\n"
     ]
    }
   ],
   "source": []
  },
  {
   "cell_type": "code",
   "execution_count": null,
   "metadata": {},
   "outputs": [],
   "source": []
  },
  {
   "cell_type": "code",
   "execution_count": null,
   "metadata": {},
   "outputs": [],
   "source": []
  },
  {
   "cell_type": "code",
   "execution_count": null,
   "metadata": {},
   "outputs": [],
   "source": []
  }
 ],
 "metadata": {
  "kernelspec": {
   "display_name": "Python 3",
   "language": "python",
   "name": "python3"
  },
  "language_info": {
   "codemirror_mode": {
    "name": "ipython",
    "version": 3
   },
   "file_extension": ".py",
   "mimetype": "text/x-python",
   "name": "python",
   "nbconvert_exporter": "python",
   "pygments_lexer": "ipython3",
   "version": "3.7.6"
  }
 },
 "nbformat": 4,
 "nbformat_minor": 4
}
