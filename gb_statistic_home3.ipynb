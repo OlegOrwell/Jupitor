{
 "cells": [
  {
   "cell_type": "markdown",
   "metadata": {},
   "source": [
    "Задача 1 "
   ]
  },
  {
   "cell_type": "code",
   "execution_count": 47,
   "metadata": {},
   "outputs": [
    {
     "data": {
      "text/plain": [
       "(47.3479521355314, 73.14285714285714)"
      ]
     },
     "execution_count": 47,
     "metadata": {},
     "output_type": "execute_result"
    }
   ],
   "source": [
    "a = [100, 80, 75, 77, 89, 33, 45, 25, 65, 17, 30, 230, 24, 57, 55, 70, 75, 65, 84, 90, 150]\n",
    "a = sorted(a)\n",
    "average_ = sum(a)/len(a)\n",
    "\n",
    "list_ = [num**2 - average_**2 for num in a]\n",
    "\n",
    "(sum(list_)/(len(a)-1))**0.5, average_"
   ]
  },
  {
   "cell_type": "markdown",
   "metadata": {},
   "source": [
    "(47.3479521355314, 73.14285714285714)\n",
    "\n",
    "Ответ: Среднее квадратичное отклонение 47.3 "
   ]
  },
  {
   "cell_type": "markdown",
   "metadata": {},
   "source": [
    "Задача 2."
   ]
  },
  {
   "cell_type": "markdown",
   "metadata": {},
   "source": [
    "Ищем точки квартилей. По скольку длина списка нечётная, то квартили совпадают с точками массива. \n",
    "Делим длину списка последовательно на 2, округляем вниз и делим ещё раз.\n",
    "По скольку итерация индексов списка идёт с нуля, как раз получаем нужные индексы квартилей в листе. "
   ]
  },
  {
   "cell_type": "code",
   "execution_count": 48,
   "metadata": {},
   "outputs": [
    {
     "data": {
      "text/plain": [
       "(45, 84)"
      ]
     },
     "execution_count": 48,
     "metadata": {},
     "output_type": "execute_result"
    }
   ],
   "source": [
    "q1, q3 = a[5], a[-6]\n",
    "q1, q3 "
   ]
  },
  {
   "cell_type": "code",
   "execution_count": 49,
   "metadata": {},
   "outputs": [
    {
     "data": {
      "text/plain": [
       "(-13.5, 142.5)"
      ]
     },
     "execution_count": 49,
     "metadata": {},
     "output_type": "execute_result"
    }
   ],
   "source": [
    "iqr = q3 - q1\n",
    "bottom = q1 - 1.5*iqr\n",
    "top = q3 + 1.5*iqr\n",
    "bottom, top"
   ]
  },
  {
   "cell_type": "markdown",
   "metadata": {},
   "source": [
    "(-13.5, 142.5) \n",
    "По скольку отрицательных значений в перечне нет, а список уже отсортирован по возрастающей, проверяем на условие больше 142,5 и забираем индексы совпадений. "
   ]
  },
  {
   "cell_type": "code",
   "execution_count": 50,
   "metadata": {},
   "outputs": [
    {
     "data": {
      "text/plain": [
       "2"
      ]
     },
     "execution_count": 50,
     "metadata": {},
     "output_type": "execute_result"
    }
   ],
   "source": [
    "counter_ = len([1 for i in a if i> top])\n",
    "counter_"
   ]
  },
  {
   "cell_type": "markdown",
   "metadata": {},
   "source": [
    "Ответ: два значения выбиваются из заданной границы сверху. \n"
   ]
  },
  {
   "cell_type": "markdown",
   "metadata": {},
   "source": [
    "Задача 3 "
   ]
  },
  {
   "cell_type": "markdown",
   "metadata": {},
   "source": [
    "Тут не очень уверен, теория вероятностей такая запутанная когда что применять.\n",
    "В голову приходит только, что у нас одновременно происходит два события:\n",
    "    1) мы выбрали студента из одной из трёх групп\n",
    "    2) студент сдал экзамен\n",
    "    \n",
    "Поэтому мы будем перемножать вероятности событий.\n",
    "А: 0.6*100/235 = 0,25\n",
    "В: 0,7*90/235 = 0,268\n",
    "С: 0,8*45/235 = 0,153\n",
    "\n",
    "Наибольшая вероятность что студент из группы В. \n",
    "\n",
    "Ответ: 2 В"
   ]
  }
 ],
 "metadata": {
  "kernelspec": {
   "display_name": "Python 3",
   "language": "python",
   "name": "python3"
  },
  "language_info": {
   "codemirror_mode": {
    "name": "ipython",
    "version": 3
   },
   "file_extension": ".py",
   "mimetype": "text/x-python",
   "name": "python",
   "nbconvert_exporter": "python",
   "pygments_lexer": "ipython3",
   "version": "3.7.6"
  }
 },
 "nbformat": 4,
 "nbformat_minor": 4
}
